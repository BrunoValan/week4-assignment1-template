{
 "cells": [
  {
   "cell_type": "markdown",
   "metadata": {},
   "source": [
    "# Week 4 Assignment \n",
    "Use this notebook to complete week 4 assignment of the Python Bootcamp for Data course. Each question is described with a Markdown cell explaining the requirements and expectations. Update the corresponding cells and as always, wait until the autograding completes on your GitHub repository \n",
    "\n",
    "The variables in the question cells are pre-assigned to `None` so that you can reuse them. The autograding tests uses those variables names to ensure the expected values are present. Do not change the variable names, otherwise a `NameError` will show in the autograding test logs.\n"
   ]
  },
  {
   "cell_type": "code",
   "execution_count": null,
   "metadata": {},
   "outputs": [],
   "source": [
    "import pandas as pd\n",
    "import numpy as np"
   ]
  },
  {
   "cell_type": "markdown",
   "metadata": {},
   "source": [
    "## Question 1\n",
    "Load the `city_census.csv` dataset in this repo, assign the dataframe to `df1` and manipulate the dataframe so that:\n",
    "- Only 15 items are present\n",
    "- Exports to a Python dictionary\n",
    "\n",
    "Assign the Python dictionary with the 15 items from the dataframe to `df1_dict`"
   ]
  },
  {
   "cell_type": "code",
   "execution_count": null,
   "metadata": {},
   "outputs": [],
   "source": [
    "df1 = pd.read_csv(\"city_census.csv\")"
   ]
  },
  {
   "cell_type": "markdown",
   "metadata": {},
   "source": [
    "## Question 2\n",
    "\n",
    "Load the `city_census.csv` dataset again. There are some rows where the `weight` value is `NaN`. Drop those rows from the `dataframe` and assign the resulting value to the `df2` variable. \n",
    "Hint: Make sure that the dropped rows are reflected in the dataframe, otherwise the test will fail."
   ]
  },
  {
   "cell_type": "code",
   "execution_count": null,
   "metadata": {},
   "outputs": [],
   "source": [
    "df2 = pd.read_csv(\"city_census.csv\")\n"
   ]
  },
  {
   "cell_type": "markdown",
   "metadata": {},
   "source": [
    "## Question 3\n",
    "\n",
    "Load the `city_census.csv` dataset again. Manipulate the `dataframe` so that only entries from North Carolina are present. Assign the resulting dataframe to the `df3` variable."
   ]
  },
  {
   "cell_type": "code",
   "execution_count": null,
   "metadata": {},
   "outputs": [],
   "source": [
    "df3 = pd.read_csv(\"city_census.csv\")"
   ]
  },
  {
   "cell_type": "markdown",
   "metadata": {},
   "source": [
    "## Question 4\n",
    "\n",
    "Load the `city_census.csv` dataset again. Manipulate the `dataframe` so that only 20 entries with persons that are over 150 in weight are used. Assign the resulting `dataframe` to the `df4` variable."
   ]
  },
  {
   "cell_type": "code",
   "execution_count": null,
   "metadata": {},
   "outputs": [],
   "source": [
    "df4 = pd.read_csv(\"city_census.csv\")"
   ]
  },
  {
   "cell_type": "markdown",
   "metadata": {},
   "source": [
    "## Question 5\n",
    "\n",
    "Load the `city_census.csv` dataset again. Manipulate the `dataframe` so that it holds anyone that is over 200 in weight from the state of California. Assign the resulting `dataframe` to the `df5` variable."
   ]
  },
  {
   "cell_type": "code",
   "execution_count": null,
   "metadata": {},
   "outputs": [],
   "source": [
    "df5 = pd.read_csv(\"city_census.csv\")"
   ]
  },
  {
   "cell_type": "markdown",
   "metadata": {},
   "source": [
    "## Question 6\n",
    "\n",
    "Manipulate the `dataframe` so that it holds anyone that has a first name that includes the (exact) `\"al\"` letters. Assign the resulting operation to the `df6` variable."
   ]
  },
  {
   "cell_type": "code",
   "execution_count": null,
   "metadata": {},
   "outputs": [],
   "source": [
    "df6 = pd.read_csv(\"city_census.csv\")"
   ]
  },
  {
   "cell_type": "markdown",
   "metadata": {},
   "source": [
    "## Question 7\n",
    "\n",
    "Create a function to manipulate the `dataframe` so that it updates any `NaN` value from the `weight` columnn to 0. Assign the resulting operation on the `dataframe` to the `df7` variable.\n",
    "\n",
    "Hint: Use `math.isnan()` to check if a value is `NaN`"
   ]
  },
  {
   "cell_type": "code",
   "execution_count": null,
   "metadata": {},
   "outputs": [],
   "source": [
    "import math\n",
    "\n",
    "# Hint: use math.isnan function to check if a value is NaN when you create your\n",
    "# helper function\n",
    "\n",
    "df7 = pd.read_csv(\"city_census.csv\")\n"
   ]
  },
  {
   "cell_type": "markdown",
   "metadata": {},
   "source": [
    "## Question 8\n",
    "\n",
    "Manipulate the `dataframe` so that it has a new column called `\"health_issue\"`. This column should have only `1` or `0`. If the person is above `240` in weight, this column should have a `1`. Otherwise a `0`. Assign the resulting operation on the `dataframe` to the `df8` variable.\n",
    "\n",
    "Hint: first create the `health_issue` column with the matching weight and then use a function to transform the boolean into a 1 or a 0. Don't forget to assign values to new columns!"
   ]
  },
  {
   "cell_type": "code",
   "execution_count": 23,
   "metadata": {},
   "outputs": [],
   "source": [
    "df8 = pd.read_csv(\"city_census.csv\") "
   ]
  },
  {
   "cell_type": "markdown",
   "metadata": {},
   "source": [
    "## Question 9\n",
    "\n",
    "Load the `city_census.csv` dataset again. Manipulate the `dataframe` so that all rows having `\"North Carolina\"`for state, have `N. Carolina` instead. Assign the resulting operation on the `dataframe` to the `df9` variable."
   ]
  },
  {
   "cell_type": "code",
   "execution_count": null,
   "metadata": {},
   "outputs": [],
   "source": [
    "df9 = pd.read_csv(\"city_census.csv\")\n"
   ]
  },
  {
   "cell_type": "markdown",
   "metadata": {},
   "source": [
    "## Question 10\n",
    "\n",
    "From the NumPy array below, split in two equal parts and then reduce the resulting arrays by having only values higher than 15. "
   ]
  },
  {
   "cell_type": "code",
   "execution_count": null,
   "metadata": {},
   "outputs": [],
   "source": [
    "array = np.array([18, 11, 8, 33, 23, 42, 82, 11, 8, 7, 1, 23])\n",
    "\n",
    "# Assign your splits to these variables, remember to reduce them with values only higher than 15\n",
    "array_split_1 = None\n",
    "array_split_2 = None\n",
    "\n"
   ]
  }
 ],
 "metadata": {
  "kernelspec": {
   "display_name": "Python 3.10.5 64-bit",
   "language": "python",
   "name": "python3"
  },
  "language_info": {
   "codemirror_mode": {
    "name": "ipython",
    "version": 3
   },
   "file_extension": ".py",
   "mimetype": "text/x-python",
   "name": "python",
   "nbconvert_exporter": "python",
   "pygments_lexer": "ipython3",
   "version": "3.10.5"
  },
  "orig_nbformat": 4,
  "vscode": {
   "interpreter": {
    "hash": "aee8b7b246df8f9039afb4144a1f6fd8d2ca17a180786b69acc140d282b71a49"
   }
  }
 },
 "nbformat": 4,
 "nbformat_minor": 2
}
